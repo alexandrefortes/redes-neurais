{
 "cells": [
  {
   "cell_type": "markdown",
   "metadata": {},
   "source": [
    "# Especialização em Inteligência Artificial – IFMG\n",
    "# Trabalho da disciplina de Redes Neurais e Aprendizado Profundo\n",
    "Autor: Alexandre Fortes Santana\n",
    "\n",
    "Professor: Agnaldo José da Rocha Reis - UFOP"
   ]
  },
  {
   "cell_type": "markdown",
   "metadata": {},
   "source": [
    "### 1. O que é inteligência para você?\n",
    "\n",
    "Para mim, inteligência poderia ser definida pelos tópicos a seguir:\n",
    "- Inteligência se manifesta em diferentes graus e tipos;\n",
    "- Inteligência se desenvolve em um indivíduo, a princípio, biológico;\n",
    "- O indivíduo detentor de inteligência em questão precisa ter a capacidade de memorizar informações em alguma escala;\n",
    "- O indivíduo detentor de inteligência utiliza as informações a que tem acesso para interpretar o mundo a sua volta e a si mesmo;\n",
    "- O indivíduo detentor de inteligência é capaz de decisões, agir e criar novos artefatos (imaginários ou físicos)."
   ]
  },
  {
   "cell_type": "markdown",
   "metadata": {},
   "source": [
    "### 2. Em sua opinião, o que aconteceria se alguém descobrisse como implementar uma IA mais abrangente (e.g., AGI) em um robô?\n",
    "A descoberta de uma Inteligência Artificial Geral seria um marco histórico para a humanidade. Experimentaríamos um período de frenesi nas redes sociais, nos noticiários e nas rodas de conversa. Muitos dilemas seriam discutidos, abordando temas como mercado de trabalho, impacto social, segurança, regulação, ética e questões militares. Os primeiros robôs focariam em demonstrar o potencial de suas aplicações e em realizar apresentações que alimentassem o frenesi público. Após um período marcado por medo, especulações e empolgação, veríamos as primeiras aplicações práticas direcionadas a problemas reais. Os primeiros robôs comerciais seriam mais simples, devido ao elevado custo de produção, e não necessariamente seriam humanoides. Não, não acredito que as máquinas se revoltariam, levando a um apocalipse."
   ]
  },
  {
   "cell_type": "markdown",
   "metadata": {},
   "source": [
    "### 3. Análise de um processo de destilação fracionada de petróleo\n",
    "A partir da análise de um processo de destilação fracionada de petróleo observou-se que determinado óleo poderia ser classificado em duas classes de pureza {C1 e C2}, mediante a medição de três grandezas {x1, x2 e x3} que representam algumas das propriedades físico-químicas do óleo. Para tanto, pretende-se utilizar um perceptron para executar a classificação automática dessas duas classes. Assim, baseadas nas informações coletadas do processo, formou-se o conjunto de treinamento em anexo (vou te passar a estrutura de dados nas próximas mensagens), tomando por convenção o valor –1 para óleo pertencente à classe C1 e o valor +1 para óleo pertencente à classe C2."
   ]
  },
  {
   "cell_type": "code",
   "execution_count": 10,
   "metadata": {},
   "outputs": [
    {
     "ename": "OSError",
     "evalue": "[Errno 22] Invalid argument: 'tab_treinamento1.dat'",
     "output_type": "error",
     "traceback": [
      "\u001b[1;31m---------------------------------------------------------------------------\u001b[0m",
      "\u001b[1;31mOSError\u001b[0m                                   Traceback (most recent call last)",
      "\u001b[1;32mg:\\Meu Drive\\Pos Graduacao IA\\Redes Neurais e Aprendizado Profundo\\Trabalho final\\redes-neurais\\Trabalho Final - Redes Neurais e Aprendizado Profundo.ipynb Célula 5\u001b[0m line \u001b[0;36m6\n\u001b[0;32m      <a href='vscode-notebook-cell:/g%3A/Meu%20Drive/Pos%20Graduacao%20IA/Redes%20Neurais%20e%20Aprendizado%20Profundo/Trabalho%20final/redes-neurais/Trabalho%20Final%20-%20Redes%20Neurais%20e%20Aprendizado%20Profundo.ipynb#W4sZmlsZQ%3D%3D?line=0'>1</a>\u001b[0m \u001b[39mimport\u001b[39;00m \u001b[39mnumpy\u001b[39;00m \u001b[39mas\u001b[39;00m \u001b[39mnp\u001b[39;00m\n\u001b[0;32m      <a href='vscode-notebook-cell:/g%3A/Meu%20Drive/Pos%20Graduacao%20IA/Redes%20Neurais%20e%20Aprendizado%20Profundo/Trabalho%20final/redes-neurais/Trabalho%20Final%20-%20Redes%20Neurais%20e%20Aprendizado%20Profundo.ipynb#W4sZmlsZQ%3D%3D?line=2'>3</a>\u001b[0m \u001b[39m#data = np.loadtxt('tab_treinamento1.dat')\u001b[39;00m\n\u001b[0;32m      <a href='vscode-notebook-cell:/g%3A/Meu%20Drive/Pos%20Graduacao%20IA/Redes%20Neurais%20e%20Aprendizado%20Profundo/Trabalho%20final/redes-neurais/Trabalho%20Final%20-%20Redes%20Neurais%20e%20Aprendizado%20Profundo.ipynb#W4sZmlsZQ%3D%3D?line=3'>4</a>\u001b[0m \u001b[39m#data\u001b[39;00m\n\u001b[1;32m----> <a href='vscode-notebook-cell:/g%3A/Meu%20Drive/Pos%20Graduacao%20IA/Redes%20Neurais%20e%20Aprendizado%20Profundo/Trabalho%20final/redes-neurais/Trabalho%20Final%20-%20Redes%20Neurais%20e%20Aprendizado%20Profundo.ipynb#W4sZmlsZQ%3D%3D?line=5'>6</a>\u001b[0m \u001b[39mwith\u001b[39;00m \u001b[39mopen\u001b[39;49m(\u001b[39m'\u001b[39;49m\u001b[39mtab_treinamento1.dat\u001b[39;49m\u001b[39m'\u001b[39;49m, \u001b[39m'\u001b[39;49m\u001b[39mr\u001b[39;49m\u001b[39m'\u001b[39;49m) \u001b[39mas\u001b[39;00m f:\n\u001b[0;32m      <a href='vscode-notebook-cell:/g%3A/Meu%20Drive/Pos%20Graduacao%20IA/Redes%20Neurais%20e%20Aprendizado%20Profundo/Trabalho%20final/redes-neurais/Trabalho%20Final%20-%20Redes%20Neurais%20e%20Aprendizado%20Profundo.ipynb#W4sZmlsZQ%3D%3D?line=6'>7</a>\u001b[0m     \u001b[39mprint\u001b[39m(f\u001b[39m.\u001b[39mread())\n",
      "File \u001b[1;32m~\\AppData\\Roaming\\Python\\Python311\\site-packages\\IPython\\core\\interactiveshell.py:284\u001b[0m, in \u001b[0;36m_modified_open\u001b[1;34m(file, *args, **kwargs)\u001b[0m\n\u001b[0;32m    277\u001b[0m \u001b[39mif\u001b[39;00m file \u001b[39min\u001b[39;00m {\u001b[39m0\u001b[39m, \u001b[39m1\u001b[39m, \u001b[39m2\u001b[39m}:\n\u001b[0;32m    278\u001b[0m     \u001b[39mraise\u001b[39;00m \u001b[39mValueError\u001b[39;00m(\n\u001b[0;32m    279\u001b[0m         \u001b[39mf\u001b[39m\u001b[39m\"\u001b[39m\u001b[39mIPython won\u001b[39m\u001b[39m'\u001b[39m\u001b[39mt let you open fd=\u001b[39m\u001b[39m{\u001b[39;00mfile\u001b[39m}\u001b[39;00m\u001b[39m by default \u001b[39m\u001b[39m\"\u001b[39m\n\u001b[0;32m    280\u001b[0m         \u001b[39m\"\u001b[39m\u001b[39mas it is likely to crash IPython. If you know what you are doing, \u001b[39m\u001b[39m\"\u001b[39m\n\u001b[0;32m    281\u001b[0m         \u001b[39m\"\u001b[39m\u001b[39myou can use builtins\u001b[39m\u001b[39m'\u001b[39m\u001b[39m open.\u001b[39m\u001b[39m\"\u001b[39m\n\u001b[0;32m    282\u001b[0m     )\n\u001b[1;32m--> 284\u001b[0m \u001b[39mreturn\u001b[39;00m io_open(file, \u001b[39m*\u001b[39;49margs, \u001b[39m*\u001b[39;49m\u001b[39m*\u001b[39;49mkwargs)\n",
      "\u001b[1;31mOSError\u001b[0m: [Errno 22] Invalid argument: 'tab_treinamento1.dat'"
     ]
    }
   ],
   "source": [
    "import numpy as np\n",
    "\n",
    "#data = np.loadtxt('tab_treinamento1.dat')\n",
    "#data\n",
    "\n",
    "with open('tab_treinamento1.dat', 'r') as f:\n",
    "    print(f.read())\n"
   ]
  },
  {
   "cell_type": "markdown",
   "metadata": {},
   "source": [
    "**a. Execute dois treinamentos para a rede perceptron, inicializando-se o vetor de pesos em cada treinamento com valores aleatórios entre zero e um de tal forma que os elementos do vetor de pesos iniciais não sejam os mesmos.**"
   ]
  },
  {
   "cell_type": "code",
   "execution_count": null,
   "metadata": {},
   "outputs": [],
   "source": [
    "import numpy as np\n",
    "\n",
    "# Inicialização de pesos\n",
    "def initialize_weights(dim):\n",
    "    return np.random.rand(dim)\n",
    "\n",
    "# Treinamento do Perceptron\n",
    "def train_perceptron(data, labels, learning_rate=0.1, epochs=100):\n",
    "    # Inicialização de pesos\n",
    "    weights = initialize_weights(data.shape[1])\n",
    "    \n",
    "    for epoch in range(epochs):\n",
    "        for i in range(len(data)):\n",
    "            x = data[i]\n",
    "            y = labels[i]\n",
    "            \n",
    "            # Cálculo do output e função de ativação\n",
    "            output = np.dot(weights, x)\n",
    "            prediction = 1 if output > 0 else -1\n",
    "            \n",
    "            # Atualização de pesos\n",
    "            if prediction != y:\n",
    "                weights += learning_rate * (y - prediction) * x\n",
    "                \n",
    "    return weights\n",
    "\n",
    "# Executando Dois Treinamentos\n",
    "labels = np.array([ ... ])  # Adicione seus rótulos aqui\n",
    "\n",
    "# Primeiro treinamento\n",
    "weights1 = train_perceptron(data, labels)\n",
    "print(\"Pesos do primeiro treinamento:\", weights1)\n",
    "\n",
    "# Segundo treinamento\n",
    "weights2 = train_perceptron(data, labels)\n",
    "print(\"Pesos do segundo treinamento:\", weights2)\n"
   ]
  }
 ],
 "metadata": {
  "kernelspec": {
   "display_name": "Python 3",
   "language": "python",
   "name": "python3"
  },
  "language_info": {
   "codemirror_mode": {
    "name": "ipython",
    "version": 3
   },
   "file_extension": ".py",
   "mimetype": "text/x-python",
   "name": "python",
   "nbconvert_exporter": "python",
   "pygments_lexer": "ipython3",
   "version": "3.11.3"
  },
  "orig_nbformat": 4
 },
 "nbformat": 4,
 "nbformat_minor": 2
}
